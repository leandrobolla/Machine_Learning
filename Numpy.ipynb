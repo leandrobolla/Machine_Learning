{
 "cells": [
  {
   "cell_type": "markdown",
   "metadata": {},
   "source": [
    "Un array (Matriz): tiene como caracteristica un conjunto de datos del mismo tipo, contrario a las listas.\n",
    "Los arrays pueden manejar directamente operaciones aritmeticas. Las listas no."
   ]
  },
  {
   "cell_type": "markdown",
   "metadata": {},
   "source": [
    "Matrices sin Numpy"
   ]
  },
  {
   "cell_type": "code",
   "execution_count": 1,
   "metadata": {},
   "outputs": [
    {
     "name": "stdout",
     "output_type": "stream",
     "text": [
      "array('i', [1, 2, 3, 4, 5])\n"
     ]
    }
   ],
   "source": [
    "import array as ar\n",
    "matriz = ar.array('i',[1,2,3,4,5]) # la 'i' es de INT y 'd' se usaria para decimales.\n",
    "print(matriz)"
   ]
  },
  {
   "cell_type": "code",
   "execution_count": 1,
   "metadata": {},
   "outputs": [
    {
     "name": "stdout",
     "output_type": "stream",
     "text": [
      "1\n",
      "2\n",
      "3\n",
      "4\n",
      "5\n"
     ]
    }
   ],
   "source": [
    "import array as ar\n",
    "matriz = ar.array('i',[1,2,3,4,5]) # la 'i' es de INT y 'd' se usaria para decimales.\n",
    "for ar in matriz:\n",
    "    print(ar)"
   ]
  },
  {
   "cell_type": "markdown",
   "metadata": {},
   "source": [
    "Matrices con Numpy"
   ]
  },
  {
   "cell_type": "code",
   "execution_count": 2,
   "metadata": {},
   "outputs": [
    {
     "name": "stdout",
     "output_type": "stream",
     "text": [
      "[1 2 3 4 5]\n"
     ]
    }
   ],
   "source": [
    "import numpy as np\n",
    "matriz = np.array([1,2,3,4,5])\n",
    "print(matriz)"
   ]
  },
  {
   "cell_type": "code",
   "execution_count": 3,
   "metadata": {},
   "outputs": [
    {
     "name": "stdout",
     "output_type": "stream",
     "text": [
      "[1, 3, 5]\n",
      "[2 4 6]\n"
     ]
    }
   ],
   "source": [
    "import numpy as np\n",
    "\n",
    "lista = [1,3,5]\n",
    "matriz = np.array([2,4,6])\n",
    "print(lista) # la lista es una coleccion de elementos.\n",
    "print(matriz) # crea elementos independiente, y cada uno ocupa un lugar en la memoria."
   ]
  },
  {
   "cell_type": "code",
   "execution_count": 5,
   "metadata": {},
   "outputs": [
    {
     "name": "stdout",
     "output_type": "stream",
     "text": [
      "[1, 3, 5, 7]\n",
      "[10 12 14]\n"
     ]
    }
   ],
   "source": [
    "import numpy as np\n",
    "\n",
    "lista = [1,3,5]\n",
    "matriz = np.array([2,4,6])\n",
    "lista.append(7)\n",
    "#matriz.append(8) esto no funciona.\n",
    "matriz = matriz + np.array([8]) # esto lo que hace es sumarse a la matriz, no continua una secuencia de numeros.\n",
    "print(lista) # la lista es una coleccion de elementos.\n",
    "print(matriz) # crea elementos independiente, y cada uno ocupa un lugar en la memoria."
   ]
  },
  {
   "cell_type": "code",
   "execution_count": 6,
   "metadata": {},
   "outputs": [
    {
     "name": "stdout",
     "output_type": "stream",
     "text": [
      "[1, 2, 3, 4, 5, 6]\n"
     ]
    }
   ],
   "source": [
    "import numpy as np\n",
    "\n",
    "a = [1,2,3] # LISTA\n",
    "b = [4,5,6] # LISTA\n",
    "\n",
    "print(a+b) # aca no se suman, se concatenan"
   ]
  },
  {
   "cell_type": "code",
   "execution_count": 10,
   "metadata": {},
   "outputs": [
    {
     "name": "stdout",
     "output_type": "stream",
     "text": [
      "[5 7 9]\n"
     ]
    }
   ],
   "source": [
    "import numpy as np\n",
    "\n",
    "a = np.array([1,2,3]) # ARRAY\n",
    "b = np.array([4,5,6]) # ARRAY\n",
    "\n",
    "print(a+b) # aca sí suman"
   ]
  },
  {
   "cell_type": "markdown",
   "metadata": {},
   "source": [
    "Matrices con Listas"
   ]
  },
  {
   "cell_type": "code",
   "execution_count": 12,
   "metadata": {},
   "outputs": [
    {
     "name": "stdout",
     "output_type": "stream",
     "text": [
      "[[1 2 3]\n",
      " [4 5 6]]\n"
     ]
    }
   ],
   "source": [
    "import numpy as np\n",
    "\n",
    "m2d = np.array([[1,2,3],[4,5,6]]) # primer corchete primera dimension, segundo la segunda.\n",
    "print(m2d)\n",
    "\n"
   ]
  },
  {
   "cell_type": "code",
   "execution_count": 14,
   "metadata": {},
   "outputs": [
    {
     "name": "stdout",
     "output_type": "stream",
     "text": [
      "[1 2 3 4 5]\n"
     ]
    }
   ],
   "source": [
    "import numpy as np\n",
    "lista = [1,2,3,4,5]\n",
    "matriz = np.array(lista)\n",
    "print (matriz)"
   ]
  },
  {
   "cell_type": "code",
   "execution_count": 15,
   "metadata": {},
   "outputs": [
    {
     "name": "stdout",
     "output_type": "stream",
     "text": [
      "[[1 2 3]\n",
      " [4 5 6]\n",
      " [7 8 9]]\n"
     ]
    }
   ],
   "source": [
    "import numpy as np\n",
    "lista = [[1,2,3],[4,5,6],[7,8,9]]\n",
    "matriz = np.array(lista)\n",
    "print(matriz)"
   ]
  },
  {
   "cell_type": "code",
   "execution_count": 17,
   "metadata": {},
   "outputs": [
    {
     "name": "stdout",
     "output_type": "stream",
     "text": [
      "[[ 0  1  2  3  4]\n",
      " [ 5  6  7  8  9]\n",
      " [10 11 12 13 14]]\n"
     ]
    }
   ],
   "source": [
    "m = np.arange(15).reshape(3,5) #con esto generamos matrices de, (arange) ,15 alementos divididos, (resshape), en 3 filas y 5 columnas. \n",
    "print(m) #dato clave: si no alcanzas las filas/columnas para la cantidad de numeros en arange va a dar error.\n"
   ]
  },
  {
   "cell_type": "code",
   "execution_count": 19,
   "metadata": {},
   "outputs": [
    {
     "name": "stdout",
     "output_type": "stream",
     "text": [
      "(3, 5)\n",
      "2\n",
      "15\n",
      "[[ 0  1  2  3  4]\n",
      " [ 5  6  7  8  9]\n",
      " [10 11 12 13 14]]\n"
     ]
    }
   ],
   "source": [
    "m = np.arange(15).reshape(3,5)\n",
    "print(m.shape) # para saber como es la matriz\n",
    "print(m.ndim) # numero de dimensiones o ejes.\n",
    "print(m.size) # tamaño o cantida de elementos.\n",
    "print(m) "
   ]
  },
  {
   "cell_type": "code",
   "execution_count": 21,
   "metadata": {},
   "outputs": [
    {
     "name": "stdout",
     "output_type": "stream",
     "text": [
      "(3, 4)\n",
      "2\n",
      "12\n",
      "[[0. 0. 0. 0.]\n",
      " [0. 0. 0. 0.]\n",
      " [0. 0. 0. 0.]]\n"
     ]
    }
   ],
   "source": [
    "m = np.zeros((3,4)) #matriz de ceros\n",
    "print(m.shape) # para saber como es la matriz\n",
    "print(m.ndim) # numero de dimensiones o ejes.\n",
    "print(m.size) # tamaño o cantida de elementos.\n",
    "print(m)"
   ]
  },
  {
   "cell_type": "code",
   "execution_count": 22,
   "metadata": {},
   "outputs": [
    {
     "name": "stdout",
     "output_type": "stream",
     "text": [
      "(10,)\n",
      "1\n",
      "10\n",
      "[0 1 2 3 4 5 6 7 8 9]\n"
     ]
    }
   ],
   "source": [
    "m = np.arange(10) # matriz de una sola dimension\n",
    "print(m.shape) # para saber como es la matriz\n",
    "print(m.ndim) # numero de dimensiones o ejes.\n",
    "print(m.size) # tamaño o cantida de elementos.\n",
    "print(m)"
   ]
  },
  {
   "cell_type": "code",
   "execution_count": 23,
   "metadata": {},
   "outputs": [
    {
     "name": "stdout",
     "output_type": "stream",
     "text": [
      "(25,)\n",
      "1\n",
      "25\n",
      "[99.         98.54166667 98.08333333 97.625      97.16666667 96.70833333\n",
      " 96.25       95.79166667 95.33333333 94.875      94.41666667 93.95833333\n",
      " 93.5        93.04166667 92.58333333 92.125      91.66666667 91.20833333\n",
      " 90.75       90.29166667 89.83333333 89.375      88.91666667 88.45833333\n",
      " 88.        ]\n"
     ]
    }
   ],
   "source": [
    "m = np.linspace(99,88,25) # generar matricer de manera aleatoria desde 99 a 88 con 25 elementos.\n",
    "print(m.shape) # para saber como es la matriz\n",
    "print(m.ndim) # numero de dimensiones o ejes.\n",
    "print(m.size) # tamaño o cantida de elementos.\n",
    "print(m)"
   ]
  },
  {
   "cell_type": "code",
   "execution_count": 29,
   "metadata": {},
   "outputs": [
    {
     "name": "stdout",
     "output_type": "stream",
     "text": [
      "(2, 3, 4)\n",
      "3\n",
      "24\n",
      "[[[ 0  1  2  3]\n",
      "  [ 4  5  6  7]\n",
      "  [ 8  9 10 11]]\n",
      "\n",
      " [[12 13 14 15]\n",
      "  [16 17 18 19]\n",
      "  [20 21 22 23]]]\n"
     ]
    }
   ],
   "source": [
    "m = np.arange(24).reshape(2,3,4) # aca me esta diciendo que va a armar dos matrices de 3 filas y 4 columnas. \n",
    "print(m.shape) # para saber como es la matriz\n",
    "print(m.ndim) # numero de dimensiones o ejes.\n",
    "print(m.size) # tamaño o cantida de elementos.\n",
    "print(m)"
   ]
  },
  {
   "cell_type": "code",
   "execution_count": 30,
   "metadata": {},
   "outputs": [
    {
     "name": "stdout",
     "output_type": "stream",
     "text": [
      "(3, 3, 3)\n",
      "3\n",
      "27\n",
      "[[[ 0  1  2]\n",
      "  [ 3  4  5]\n",
      "  [ 6  7  8]]\n",
      "\n",
      " [[ 9 10 11]\n",
      "  [12 13 14]\n",
      "  [15 16 17]]\n",
      "\n",
      " [[18 19 20]\n",
      "  [21 22 23]\n",
      "  [24 25 26]]]\n"
     ]
    }
   ],
   "source": [
    "m = np.arange(27).reshape(3,3,3) # aca me esta diciendo que va a armar 3 matrices de 3 filas y 3 columnas. \n",
    "print(m.shape) # para saber como es la matriz\n",
    "print(m.ndim) # numero de dimensiones o ejes.\n",
    "print(m.size) # tamaño o cantida de elementos.\n",
    "print(m)"
   ]
  },
  {
   "cell_type": "markdown",
   "metadata": {},
   "source": [
    "Operaciones basicas con matrices:"
   ]
  },
  {
   "cell_type": "code",
   "execution_count": null,
   "metadata": {},
   "outputs": [],
   "source": []
  }
 ],
 "metadata": {
  "kernelspec": {
   "display_name": ".venv",
   "language": "python",
   "name": "python3"
  },
  "language_info": {
   "codemirror_mode": {
    "name": "ipython",
    "version": 3
   },
   "file_extension": ".py",
   "mimetype": "text/x-python",
   "name": "python",
   "nbconvert_exporter": "python",
   "pygments_lexer": "ipython3",
   "version": "3.9.7"
  }
 },
 "nbformat": 4,
 "nbformat_minor": 2
}
