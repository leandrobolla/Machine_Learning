{
 "cells": [
  {
   "cell_type": "markdown",
   "metadata": {},
   "source": [
    "Listas: "
   ]
  },
  {
   "cell_type": "code",
   "execution_count": 39,
   "metadata": {},
   "outputs": [
    {
     "ename": "TypeError",
     "evalue": "'str' object cannot be interpreted as an integer",
     "output_type": "error",
     "traceback": [
      "\u001b[1;31m---------------------------------------------------------------------------\u001b[0m",
      "\u001b[1;31mTypeError\u001b[0m                                 Traceback (most recent call last)",
      "Cell \u001b[1;32mIn[39], line 5\u001b[0m\n\u001b[0;32m      1\u001b[0m letras \u001b[38;5;241m=\u001b[39m [\u001b[38;5;124m\"\u001b[39m\u001b[38;5;124mdef\u001b[39m\u001b[38;5;124m\"\u001b[39m, \u001b[38;5;124m\"\u001b[39m\u001b[38;5;124mabc\u001b[39m\u001b[38;5;124m\"\u001b[39m,\u001b[38;5;124m\"\u001b[39m\u001b[38;5;124mxyz\u001b[39m\u001b[38;5;124m\"\u001b[39m]\n\u001b[0;32m      3\u001b[0m \u001b[38;5;66;03m#letras.sort()\u001b[39;00m\n\u001b[0;32m      4\u001b[0m \u001b[38;5;66;03m# sort ordena las listas, alfabeticamente, o numericamente. sort reverse hace lo mismo a la inversa.\u001b[39;00m\n\u001b[1;32m----> 5\u001b[0m eliminar \u001b[38;5;241m=\u001b[39m \u001b[43mletras\u001b[49m\u001b[38;5;241;43m.\u001b[39;49m\u001b[43mpop\u001b[49m\u001b[43m \u001b[49m\u001b[43m(\u001b[49m\u001b[38;5;124;43m\"\u001b[39;49m\u001b[38;5;124;43mabc\u001b[39;49m\u001b[38;5;124;43m\"\u001b[39;49m\u001b[43m)\u001b[49m\n\u001b[0;32m      6\u001b[0m \u001b[38;5;28mprint\u001b[39m (eliminar)\n",
      "\u001b[1;31mTypeError\u001b[0m: 'str' object cannot be interpreted as an integer"
     ]
    }
   ],
   "source": [
    "letras = [\"def\", \"abc\",\"xyz\"]\n",
    "\n",
    "#letras.sort()\n",
    "# sort ordena las listas, alfabeticamente, o numericamente. sort reverse hace lo mismo a la inversa.\n",
    "eliminar = letras.pop (\"abc\")\n",
    "print (eliminar)"
   ]
  },
  {
   "cell_type": "code",
   "execution_count": 1,
   "metadata": {},
   "outputs": [
    {
     "name": "stdout",
     "output_type": "stream",
     "text": [
      "78\n"
     ]
    }
   ],
   "source": [
    "numeros= [2,5,8,54,3,6,78]\n",
    "\n",
    "print(numeros.pop())\n",
    "#con el parametro vacio solo deja el ultimo valor, el resto lo elimina\n"
   ]
  },
  {
   "cell_type": "code",
   "execution_count": 6,
   "metadata": {},
   "outputs": [
    {
     "name": "stdout",
     "output_type": "stream",
     "text": [
      "Lista actualizada [2, 5, 8, 3, 6, 78]\n",
      "numero eliminado  54\n"
     ]
    }
   ],
   "source": [
    "numeros= [2,5,8,54,3,6,78]\n",
    "\n",
    "eliminar = numeros.pop(3)\n",
    "\n",
    "print(\"Lista actualizada\", numeros)\n",
    "print(\"numero eliminado \", eliminar)\n"
   ]
  },
  {
   "cell_type": "markdown",
   "metadata": {},
   "source": [
    "Diccionarios: coleccion desordenada de elementos. {clave:valor}"
   ]
  },
  {
   "cell_type": "code",
   "execution_count": 7,
   "metadata": {},
   "outputs": [
    {
     "name": "stdout",
     "output_type": "stream",
     "text": [
      "23\n"
     ]
    }
   ],
   "source": [
    "diccionario = {'nombre':'Victor', 'edad':23}\n",
    "\n",
    "print(diccionario['edad'])"
   ]
  },
  {
   "cell_type": "code",
   "execution_count": 11,
   "metadata": {},
   "outputs": [
    {
     "name": "stdout",
     "output_type": "stream",
     "text": [
      "{'Pais': 'Italia', 'Ciudad': 'Milan'}\n"
     ]
    }
   ],
   "source": [
    "datos_personales = {'Pais': 'Italia', 'Ciudad': 'Roma'}\n",
    "datos_personales['Ciudad'] ='Milan'  #fomar de reemplazar dentro del diccionario\n",
    "print(datos_personales)"
   ]
  },
  {
   "cell_type": "code",
   "execution_count": 13,
   "metadata": {},
   "outputs": [
    {
     "name": "stdout",
     "output_type": "stream",
     "text": [
      "{'Jose': 18, 'Camila': 19, 'Maria': 22, 'Raul': 33}\n"
     ]
    }
   ],
   "source": [
    "dict = {'Jose':18,'David':23,'Camila':19,'Maria':22}\n",
    "dict.update({'Raul':33}) #actualiza los datos y agrega.\n",
    "del dict['David'] #para eliminar un dato\n",
    "print(dict)\n"
   ]
  },
  {
   "cell_type": "code",
   "execution_count": 14,
   "metadata": {},
   "outputs": [
    {
     "name": "stdout",
     "output_type": "stream",
     "text": [
      "Camila : 19\n",
      "David : 23\n",
      "Jose : 18\n",
      "Maria : 22\n"
     ]
    }
   ],
   "source": [
    "#Combinacion de diccionario con listas\n",
    "dict = {'Jose':18,'David':23,'Camila':19,'Maria':22}\n",
    "varones = {'Jose':18,'David':23}\n",
    "mujeres = {'Camila':19,'Maria':22}\n",
    "estudiantes = list(dict.keys())\n",
    "estudiantes.sort() \n",
    "for e in estudiantes:\n",
    "    print(\" : \".join((e,str(dict[e]))))"
   ]
  },
  {
   "cell_type": "markdown",
   "metadata": {},
   "source": [
    "Tuplas: es como una lista pero estas son inalterables unas vez asignadas."
   ]
  },
  {
   "cell_type": "code",
   "execution_count": 18,
   "metadata": {},
   "outputs": [
    {
     "name": "stdout",
     "output_type": "stream",
     "text": [
      "(0, 1, 2, 3, 4, 5)\n"
     ]
    }
   ],
   "source": [
    "tupla = (0,1,2,3,4,5)\n",
    "#tupla[0] = 1000 no soporta este tipo de asignacion\n",
    "print(tupla)"
   ]
  },
  {
   "cell_type": "code",
   "execution_count": 19,
   "metadata": {},
   "outputs": [
    {
     "name": "stdout",
     "output_type": "stream",
     "text": [
      "(0, 1, 2, 3, 4, 'uno', 'dos', 'tres')\n"
     ]
    }
   ],
   "source": [
    "tupla_a = (0,1,2,3,4)\n",
    "tupla_b = ('uno','dos','tres')\n",
    "print(tupla_a+tupla_b) #contatenar tuplas."
   ]
  },
  {
   "cell_type": "code",
   "execution_count": 22,
   "metadata": {},
   "outputs": [
    {
     "name": "stdout",
     "output_type": "stream",
     "text": [
      "Python Python Python Python \n"
     ]
    }
   ],
   "source": [
    "tupla_c = ('Python ')*4\n",
    "print(tupla_c)"
   ]
  },
  {
   "cell_type": "code",
   "execution_count": 23,
   "metadata": {},
   "outputs": [
    {
     "name": "stdout",
     "output_type": "stream",
     "text": [
      "3\n"
     ]
    }
   ],
   "source": [
    "tupla = (1,5,6,8,5,2,3,4,5)\n",
    "repetido= tupla.count(5)\n",
    "print(repetido)"
   ]
  },
  {
   "cell_type": "code",
   "execution_count": 24,
   "metadata": {},
   "outputs": [
    {
     "name": "stdout",
     "output_type": "stream",
     "text": [
      "1\n"
     ]
    }
   ],
   "source": [
    "tupla = (1,5,6,8,5,2,3,4,5)\n",
    "primero= tupla.index(5)\n",
    "print(primero)"
   ]
  },
  {
   "cell_type": "code",
   "execution_count": 26,
   "metadata": {},
   "outputs": [
    {
     "name": "stdout",
     "output_type": "stream",
     "text": [
      "('rojo', 'negro', 'verde')\n"
     ]
    }
   ],
   "source": [
    "#convercion de tupla a lista y lista a tupla.\n",
    "x = ('rojo', 'amarillo', 'verde')\n",
    "y = list(x)\n",
    "y[1]= 'negro'\n",
    "x = tuple(y)\n",
    "print(x)"
   ]
  },
  {
   "cell_type": "markdown",
   "metadata": {},
   "source": [
    "Conjuntos (set): son una coleccion de elementos unicos de forma desordenada e inmutable."
   ]
  },
  {
   "cell_type": "code",
   "execution_count": 27,
   "metadata": {},
   "outputs": [
    {
     "name": "stdout",
     "output_type": "stream",
     "text": [
      "{1, 2, 3, 4, 5}\n"
     ]
    }
   ],
   "source": [
    "conjunto = {1,2,3,4,5}\n",
    "print(conjunto)"
   ]
  },
  {
   "cell_type": "code",
   "execution_count": 29,
   "metadata": {},
   "outputs": [
    {
     "name": "stdout",
     "output_type": "stream",
     "text": [
      "{1, 2, 3, 4.6, 5, ('w', 't'), 'python'}\n"
     ]
    }
   ],
   "source": [
    "set = {1,2,3,4.6,5,'python',('w','t')}\n",
    "print(set)"
   ]
  },
  {
   "cell_type": "code",
   "execution_count": 31,
   "metadata": {},
   "outputs": [
    {
     "name": "stdout",
     "output_type": "stream",
     "text": [
      "{1, 2, 3, 4, 5, 6}\n"
     ]
    }
   ],
   "source": [
    "set = {1,2,3,4,5}\n",
    "set.add(6) #agregar \n",
    "print(set)"
   ]
  },
  {
   "cell_type": "code",
   "execution_count": 32,
   "metadata": {},
   "outputs": [
    {
     "name": "stdout",
     "output_type": "stream",
     "text": [
      "set()\n"
     ]
    }
   ],
   "source": [
    "set = {1,2,3,4,5}\n",
    "set.clear() #eliminar todo \n",
    "print(set)"
   ]
  },
  {
   "cell_type": "code",
   "execution_count": 33,
   "metadata": {},
   "outputs": [
    {
     "name": "stdout",
     "output_type": "stream",
     "text": [
      "{1, 3, 4, 5}\n"
     ]
    }
   ],
   "source": [
    "set = {1,2,3,4,5}\n",
    "set.discard(2) #descartar el valor de parametro\n",
    "print(set)"
   ]
  },
  {
   "cell_type": "code",
   "execution_count": 34,
   "metadata": {},
   "outputs": [
    {
     "name": "stdout",
     "output_type": "stream",
     "text": [
      "{1, 3, 4, 5}\n"
     ]
    }
   ],
   "source": [
    "set = {1,2,3,4,5}\n",
    "set.remove(2) #remove difiere de discard en que con remove al buscar el dato eliminado no lo encontraria. \n",
    "print(set)"
   ]
  },
  {
   "cell_type": "code",
   "execution_count": 35,
   "metadata": {},
   "outputs": [
    {
     "name": "stdout",
     "output_type": "stream",
     "text": [
      "{1, 2, 3, 4, 5, 6, 7, 8}\n"
     ]
    }
   ],
   "source": [
    "A = {1,2,3,4,5}\n",
    "B= {4,5,6,7,8}\n",
    "\n",
    "print(A | B) #conbima los conjuntos sin repetir datos. Es Union de conjuntos."
   ]
  },
  {
   "cell_type": "code",
   "execution_count": 36,
   "metadata": {},
   "outputs": [
    {
     "name": "stdout",
     "output_type": "stream",
     "text": [
      "{4, 5}\n"
     ]
    }
   ],
   "source": [
    "A = {1,2,3,4,5}\n",
    "B= {4,5,6,7,8}\n",
    "\n",
    "print(A & B) #busca los elementos en comun de ambos conjuntos. Se llama interseccion"
   ]
  },
  {
   "cell_type": "code",
   "execution_count": 37,
   "metadata": {},
   "outputs": [
    {
     "name": "stdout",
     "output_type": "stream",
     "text": [
      "{1, 2, 3}\n"
     ]
    }
   ],
   "source": [
    "A = {1,2,3,4,5}\n",
    "B= {4,5,6,7,8}\n",
    "\n",
    "print(A - B) #diferencia"
   ]
  },
  {
   "cell_type": "code",
   "execution_count": 38,
   "metadata": {},
   "outputs": [
    {
     "name": "stdout",
     "output_type": "stream",
     "text": [
      "{1, 2, 3, 6, 7, 8}\n"
     ]
    }
   ],
   "source": [
    "A = {1,2,3,4,5}\n",
    "B= {4,5,6,7,8}\n",
    "\n",
    "print(A ^ B) #diferencia simetrica, no toma en cuanta los elementos que estan ambos conjuntos."
   ]
  },
  {
   "cell_type": "markdown",
   "metadata": {},
   "source": [
    "Range: Genera numeros enteros entre el inicial y el final"
   ]
  },
  {
   "cell_type": "code",
   "execution_count": 2,
   "metadata": {},
   "outputs": [
    {
     "name": "stdout",
     "output_type": "stream",
     "text": [
      "[0, 1, 2, 3, 4, 5, 6]\n"
     ]
    }
   ],
   "source": [
    "print(list(range(0,7))) #el resultado sera el punto inicial y el anterior al final."
   ]
  },
  {
   "cell_type": "code",
   "execution_count": 3,
   "metadata": {},
   "outputs": [
    {
     "name": "stdout",
     "output_type": "stream",
     "text": [
      "0\n",
      "1\n",
      "2\n",
      "3\n",
      "4\n",
      "5\n",
      "6\n"
     ]
    }
   ],
   "source": [
    "for i in range(0,7):\n",
    "    print(i)"
   ]
  },
  {
   "cell_type": "code",
   "execution_count": 7,
   "metadata": {},
   "outputs": [
    {
     "name": "stdout",
     "output_type": "stream",
     "text": [
      "0, 1, 2, 3, 4, 5, 6, "
     ]
    }
   ],
   "source": [
    "for i in range(0,7):\n",
    "    print(i, end= ', ') # con end= tenemos el mismo ejercicio anterior pero con resultado horizontal separado por comas."
   ]
  },
  {
   "cell_type": "code",
   "execution_count": 8,
   "metadata": {},
   "outputs": [
    {
     "name": "stdout",
     "output_type": "stream",
     "text": [
      "2, 4, 6, 8, "
     ]
    }
   ],
   "source": [
    "for i in range(2,10,2):\n",
    "    print(i, end= ', ') #inicio (2) y final (10), el tercer elemento dictamina la cantidad de pasos, en este ejemplo de 2 en 2"
   ]
  },
  {
   "cell_type": "code",
   "execution_count": 9,
   "metadata": {},
   "outputs": [
    {
     "name": "stdout",
     "output_type": "stream",
     "text": [
      "el valor de i es:  1\n",
      "el valor de i es:  3\n",
      "el valor de i es:  5\n",
      "el valor de i es:  7\n",
      "el valor de i es:  9\n"
     ]
    }
   ],
   "source": [
    "for i in range(1,10,2):\n",
    "    print(\"el valor de i es: \", i) #lo mismo pero con numero inpar y con mensaje"
   ]
  },
  {
   "cell_type": "code",
   "execution_count": 10,
   "metadata": {},
   "outputs": [
    {
     "name": "stdout",
     "output_type": "stream",
     "text": [
      "\n",
      "1 \n",
      "2 2 \n",
      "3 3 3 \n",
      "4 4 4 4 \n",
      "5 5 5 5 5 \n",
      "6 6 6 6 6 6 \n",
      "7 7 7 7 7 7 7 \n",
      "8 8 8 8 8 8 8 8 \n",
      "9 9 9 9 9 9 9 9 9 \n"
     ]
    }
   ],
   "source": [
    "for num in range(10): #asi declaramos el punto final\n",
    "    for i in range (num): #aca declaramos el punto inicial\n",
    "        print(num, end= ' ')\n",
    "    print()"
   ]
  },
  {
   "cell_type": "code",
   "execution_count": 11,
   "metadata": {},
   "outputs": [
    {
     "name": "stdout",
     "output_type": "stream",
     "text": [
      "9\n",
      "8\n",
      "7\n",
      "6\n",
      "5\n",
      "4\n",
      "3\n",
      "2\n",
      "1\n",
      "0\n"
     ]
    }
   ],
   "source": [
    "for i in reversed(range (0,10)): #con reversed invertimos el range.\n",
    "    print(i)\n",
    "\n",
    "        "
   ]
  },
  {
   "cell_type": "code",
   "execution_count": 12,
   "metadata": {},
   "outputs": [
    {
     "name": "stdout",
     "output_type": "stream",
     "text": [
      "lista [1, 2, 3, 4, 5, 6, 7]\n"
     ]
    }
   ],
   "source": [
    "generar_lista = list(range(1,8)) #generar una lista con un range.\n",
    "print(\"lista\", generar_lista)"
   ]
  },
  {
   "cell_type": "markdown",
   "metadata": {},
   "source": [
    "Compresion de listas."
   ]
  },
  {
   "cell_type": "code",
   "execution_count": 2,
   "metadata": {},
   "outputs": [
    {
     "name": "stdout",
     "output_type": "stream",
     "text": [
      "['p', 'y', 't', 'h', 'o', 'n']\n"
     ]
    }
   ],
   "source": [
    "curso = []\n",
    "for letras in 'python': #creamos un for para que recorra las letras...\n",
    "    curso.append(letras)  # con append dentro del for agregamos a la lista el recorrido del for.\n",
    "print(curso)"
   ]
  },
  {
   "cell_type": "code",
   "execution_count": 7,
   "metadata": {},
   "outputs": [
    {
     "name": "stdout",
     "output_type": "stream",
     "text": [
      "['p', 'y', 't', 'h', 'o', 'n']\n"
     ]
    }
   ],
   "source": [
    "curso =[letras for letras in 'python']\n",
    "print(curso)\n",
    "\n",
    "#El código en Python que proporcionaste es una forma de crear una lista utilizando una list comprehension. Te explicaré cada parte teórica detrás de este código:\n",
    "\n",
    "#List Comprehension: Esta es una manera concisa y eficiente de crear listas en Python. En lugar de usar un bucle for tradicional para llenar una lista, puedes usar una sintaxis más compacta.\n",
    "\n",
    "#Estructura del código:\n",
    "\n",
    "#curso = [letras for letras in 'python']: #Aquí, curso es una nueva lista que se está creando.\n",
    "#[letras for letras in 'python']: #Dentro de los corchetes, se está utilizando una list comprehension.\n",
    "#Lo que está sucediendo es que for letras in 'python' recorre cada carácter de la cadena 'python'.\n",
    "#Por cada carácter, se asigna a la variable letras, y esa variable se incluye en la nueva lista.\n",
    "#Resultado: Al final, se crea una lista que contiene cada uno de los caracteres de la cadena 'python'. Entonces, si imprimes curso, obtendrás:\n",
    "#['p', 'y', 't', 'h', 'o', 'n']\n",
    "#$Print: La instrucción print(curso) simplemente muestra en pantalla el contenido de la lista curso.\n",
    "\n",
    "#Por lo tanto, este código crea una lista de los caracteres que componen la palabra \"python\" y lo imprime.\n",
    "\n"
   ]
  },
  {
   "cell_type": "code",
   "execution_count": 8,
   "metadata": {},
   "outputs": [
    {
     "name": "stdout",
     "output_type": "stream",
     "text": [
      "[1, 2, 3, 4, 5, 6]\n"
     ]
    }
   ],
   "source": [
    "#Alternativa \"A\"\n",
    "lista_a = [1,2,3,4,5,6]\n",
    "lista_b = []\n",
    "\n",
    "for i in lista_a:\n",
    "    para_lista_b = i\n",
    "    lista_b.append(para_lista_b)\n",
    "print(lista_b)"
   ]
  },
  {
   "cell_type": "code",
   "execution_count": 9,
   "metadata": {},
   "outputs": [
    {
     "name": "stdout",
     "output_type": "stream",
     "text": [
      "[2, 4, 6, 8, 10, 12]\n"
     ]
    }
   ],
   "source": [
    "#Alternativa \"B\" con compresion de lista.\n",
    "lista_a = [1,2,3,4,5,6]\n",
    "lista_b = [i*2 for i in lista_a]\n",
    "\n",
    "print(lista_b)"
   ]
  },
  {
   "cell_type": "markdown",
   "metadata": {},
   "source": [
    "Funciones:"
   ]
  },
  {
   "cell_type": "code",
   "execution_count": 16,
   "metadata": {},
   "outputs": [
    {
     "name": "stdout",
     "output_type": "stream",
     "text": [
      "Hola, mi nombre es Ricardocon la edad de 34\n"
     ]
    }
   ],
   "source": [
    "def mi_funcion(nombre,edad):\n",
    "    print(\"Hola, mi nombre es \"+nombre+' con la edad de',edad)\n",
    "\n",
    "mi_funcion('Ricardo',34)\n",
    "\n"
   ]
  },
  {
   "cell_type": "code",
   "execution_count": 18,
   "metadata": {},
   "outputs": [
    {
     "data": {
      "text/plain": [
       "11"
      ]
     },
     "execution_count": 18,
     "metadata": {},
     "output_type": "execute_result"
    }
   ],
   "source": [
    "def suma(n1,n2):\n",
    "    operacion = n1+n2\n",
    "    return operacion\n",
    "suma(5,6)\n",
    "\n"
   ]
  },
  {
   "cell_type": "code",
   "execution_count": 19,
   "metadata": {},
   "outputs": [
    {
     "data": {
      "text/plain": [
       "11"
      ]
     },
     "execution_count": 19,
     "metadata": {},
     "output_type": "execute_result"
    }
   ],
   "source": [
    "#version simplificada def suma:\n",
    "def suma(n1,n2):\n",
    "    return n1+n2\n",
    "suma(8,3)"
   ]
  },
  {
   "cell_type": "code",
   "execution_count": 22,
   "metadata": {},
   "outputs": [
    {
     "name": "stdout",
     "output_type": "stream",
     "text": [
      "numero:  50\n"
     ]
    }
   ],
   "source": [
    "def mi_funcion():\n",
    "    x = 50\n",
    "    print('numero: ' ,x)\n",
    "mi_funcion()\n"
   ]
  },
  {
   "cell_type": "code",
   "execution_count": 23,
   "metadata": {},
   "outputs": [
    {
     "name": "stdout",
     "output_type": "stream",
     "text": [
      "30\n"
     ]
    }
   ],
   "source": [
    "def suma():\n",
    "    a=10\n",
    "    b=20\n",
    "    c=a+b\n",
    "    return c\n",
    "print(suma())"
   ]
  },
  {
   "cell_type": "code",
   "execution_count": 27,
   "metadata": {},
   "outputs": [
    {
     "name": "stdout",
     "output_type": "stream",
     "text": [
      "variable local:  40\n",
      "variable global:  80\n"
     ]
    }
   ],
   "source": [
    "def mi_funcion():\n",
    "    x=40\n",
    "    print('variable local: ',x)\n",
    "x=80\n",
    "\n",
    "mi_funcion() # aca esta llamando a la funcion\n",
    "print('variable global: ',x) # aca a la variable, por eso tengo ambos resultados."
   ]
  },
  {
   "cell_type": "markdown",
   "metadata": {},
   "source": [
    "Funciones MAP: ejecuta una funcion especifica para cada elemento iterable. Uso en listas, tuplas y conjuntos."
   ]
  },
  {
   "cell_type": "code",
   "execution_count": 28,
   "metadata": {},
   "outputs": [
    {
     "name": "stdout",
     "output_type": "stream",
     "text": [
      "[5, 10, 15, 20, 25, 30, 35]\n"
     ]
    }
   ],
   "source": [
    "def mult(n):\n",
    "    return n*5\n",
    "lista = [1,2,3,4,5,6,7]\n",
    "lista_map = list(map(mult,lista)) # la funcion map recorre la lista y la multiplica por el valor del return\n",
    "print(lista_map)"
   ]
  },
  {
   "cell_type": "code",
   "execution_count": 31,
   "metadata": {},
   "outputs": [
    {
     "name": "stdout",
     "output_type": "stream",
     "text": [
      "('PHP', 'PYTHON', 'JAVA', 'DART', 'CSS')\n"
     ]
    }
   ],
   "source": [
    "def cursos (c):\n",
    "    return c.upper()\n",
    "tupla = ('php', 'python', 'java', 'dart','css')\n",
    "tupla_actualizada = tuple(map(cursos,tupla))\n",
    "print(tupla_actualizada)\n"
   ]
  },
  {
   "cell_type": "markdown",
   "metadata": {},
   "source": [
    "Filter: crea un nuevo iterador a partir de un iterable existente"
   ]
  },
  {
   "cell_type": "code",
   "execution_count": 32,
   "metadata": {},
   "outputs": [
    {
     "name": "stdout",
     "output_type": "stream",
     "text": [
      "[1, 3, 5]\n"
     ]
    }
   ],
   "source": [
    "def impares(n):\n",
    "    if(n %2 ==1):\n",
    "        return n\n",
    "lista = [1,2,3,4,5,6]\n",
    "lista_impares = list(filter(impares,lista))\n",
    "print(lista_impares)"
   ]
  },
  {
   "cell_type": "markdown",
   "metadata": {},
   "source": [
    "Lambda: es una funcion anonima, porque se defini sin nombre."
   ]
  },
  {
   "cell_type": "code",
   "execution_count": 33,
   "metadata": {},
   "outputs": [
    {
     "name": "stdout",
     "output_type": "stream",
     "text": [
      "40\n"
     ]
    }
   ],
   "source": [
    "#explicacion teorica sin lambda\n",
    "def doble(x):\n",
    "    return x*2\n",
    "print(doble(20))"
   ]
  },
  {
   "cell_type": "code",
   "execution_count": 35,
   "metadata": {},
   "outputs": [
    {
     "name": "stdout",
     "output_type": "stream",
     "text": [
      "60\n"
     ]
    }
   ],
   "source": [
    "doble = lambda x:x*2\n",
    "print(doble(30))"
   ]
  },
  {
   "cell_type": "code",
   "execution_count": 36,
   "metadata": {},
   "outputs": [
    {
     "name": "stdout",
     "output_type": "stream",
     "text": [
      "[6, 78, 4, 8, 24, 12]\n"
     ]
    }
   ],
   "source": [
    "lista = [1,5,6,78,9,5,4,67,8,24,12]\n",
    "lista_pares = list(filter(lambda x:(x%2==0),lista)) #lambda con Filter\n",
    "print(lista_pares)"
   ]
  },
  {
   "cell_type": "code",
   "execution_count": 37,
   "metadata": {},
   "outputs": [
    {
     "name": "stdout",
     "output_type": "stream",
     "text": [
      "[8, 10, 14, 196, 10, 4, 8, 12]\n"
     ]
    }
   ],
   "source": [
    "lista = [4,5,7,98,5,2,4,6]\n",
    "lista_doble = list(map(lambda x:x*2,lista)) #lambda con Map\n",
    "print(lista_doble)"
   ]
  }
 ],
 "metadata": {
  "kernelspec": {
   "display_name": ".venv",
   "language": "python",
   "name": "python3"
  },
  "language_info": {
   "codemirror_mode": {
    "name": "ipython",
    "version": 3
   },
   "file_extension": ".py",
   "mimetype": "text/x-python",
   "name": "python",
   "nbconvert_exporter": "python",
   "pygments_lexer": "ipython3",
   "version": "3.9.7"
  }
 },
 "nbformat": 4,
 "nbformat_minor": 2
}
