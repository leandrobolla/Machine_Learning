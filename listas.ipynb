{
 "cells": [
  {
   "cell_type": "markdown",
   "metadata": {},
   "source": [
    "Listas: "
   ]
  },
  {
   "cell_type": "code",
   "execution_count": 1,
   "metadata": {},
   "outputs": [
    {
     "name": "stdout",
     "output_type": "stream",
     "text": [
      "78\n"
     ]
    }
   ],
   "source": [
    "numeros= [2,5,8,54,3,6,78]\n",
    "\n",
    "print(numeros.pop())\n",
    "#con el parametro vacio solo deja el ultimo valor, el resto lo elimina\n"
   ]
  },
  {
   "cell_type": "code",
   "execution_count": 6,
   "metadata": {},
   "outputs": [
    {
     "name": "stdout",
     "output_type": "stream",
     "text": [
      "Lista actualizada [2, 5, 8, 3, 6, 78]\n",
      "numero eliminado  54\n"
     ]
    }
   ],
   "source": [
    "numeros= [2,5,8,54,3,6,78]\n",
    "\n",
    "eliminar = numeros.pop(3)\n",
    "\n",
    "print(\"Lista actualizada\", numeros)\n",
    "print(\"numero eliminado \", eliminar)\n"
   ]
  },
  {
   "cell_type": "markdown",
   "metadata": {},
   "source": [
    "Diccionarios: coleccion desordenada de elementos. {clave:valor}"
   ]
  },
  {
   "cell_type": "code",
   "execution_count": 7,
   "metadata": {},
   "outputs": [
    {
     "name": "stdout",
     "output_type": "stream",
     "text": [
      "23\n"
     ]
    }
   ],
   "source": [
    "diccionario = {'nombre':'Victor', 'edad':23}\n",
    "\n",
    "print(diccionario['edad'])"
   ]
  },
  {
   "cell_type": "code",
   "execution_count": 11,
   "metadata": {},
   "outputs": [
    {
     "name": "stdout",
     "output_type": "stream",
     "text": [
      "{'Pais': 'Italia', 'Ciudad': 'Milan'}\n"
     ]
    }
   ],
   "source": [
    "datos_personales = {'Pais': 'Italia', 'Ciudad': 'Roma'}\n",
    "datos_personales['Ciudad'] ='Milan'  #fomar de reemplazar dentro del diccionario\n",
    "print(datos_personales)"
   ]
  },
  {
   "cell_type": "code",
   "execution_count": 13,
   "metadata": {},
   "outputs": [
    {
     "name": "stdout",
     "output_type": "stream",
     "text": [
      "{'Jose': 18, 'Camila': 19, 'Maria': 22, 'Raul': 33}\n"
     ]
    }
   ],
   "source": [
    "dict = {'Jose':18,'David':23,'Camila':19,'Maria':22}\n",
    "dict.update({'Raul':33}) #actualiza los datos y agrega.\n",
    "del dict['David'] #para eliminar un dato\n",
    "print(dict)\n"
   ]
  },
  {
   "cell_type": "code",
   "execution_count": 14,
   "metadata": {},
   "outputs": [
    {
     "name": "stdout",
     "output_type": "stream",
     "text": [
      "Camila : 19\n",
      "David : 23\n",
      "Jose : 18\n",
      "Maria : 22\n"
     ]
    }
   ],
   "source": [
    "#Combinacion de diccionario con listas\n",
    "dict = {'Jose':18,'David':23,'Camila':19,'Maria':22}\n",
    "varones = {'Jose':18,'David':23}\n",
    "mujeres = {'Camila':19,'Maria':22}\n",
    "estudiantes = list(dict.keys())\n",
    "estudiantes.sort() \n",
    "for e in estudiantes:\n",
    "    print(\" : \".join((e,str(dict[e]))))"
   ]
  },
  {
   "cell_type": "markdown",
   "metadata": {},
   "source": [
    "Tuplas: es como una lista pero estas son inalterables unas vez asignadas."
   ]
  },
  {
   "cell_type": "code",
   "execution_count": 18,
   "metadata": {},
   "outputs": [
    {
     "name": "stdout",
     "output_type": "stream",
     "text": [
      "(0, 1, 2, 3, 4, 5)\n"
     ]
    }
   ],
   "source": [
    "tupla = (0,1,2,3,4,5)\n",
    "#tupla[0] = 1000 no soporta este tipo de asignacion\n",
    "print(tupla)"
   ]
  },
  {
   "cell_type": "code",
   "execution_count": 19,
   "metadata": {},
   "outputs": [
    {
     "name": "stdout",
     "output_type": "stream",
     "text": [
      "(0, 1, 2, 3, 4, 'uno', 'dos', 'tres')\n"
     ]
    }
   ],
   "source": [
    "tupla_a = (0,1,2,3,4)\n",
    "tupla_b = ('uno','dos','tres')\n",
    "print(tupla_a+tupla_b) #contatenar tuplas."
   ]
  },
  {
   "cell_type": "code",
   "execution_count": 20,
   "metadata": {},
   "outputs": [
    {
     "name": "stdout",
     "output_type": "stream",
     "text": [
      "PythonPythonPythonPython\n"
     ]
    }
   ],
   "source": [
    "tupla_c = ('Python ', str)*4\n",
    "print(tupla_c)"
   ]
  }
 ],
 "metadata": {
  "kernelspec": {
   "display_name": ".venv",
   "language": "python",
   "name": "python3"
  },
  "language_info": {
   "codemirror_mode": {
    "name": "ipython",
    "version": 3
   },
   "file_extension": ".py",
   "mimetype": "text/x-python",
   "name": "python",
   "nbconvert_exporter": "python",
   "pygments_lexer": "ipython3",
   "version": "3.9.7"
  }
 },
 "nbformat": 4,
 "nbformat_minor": 2
}
